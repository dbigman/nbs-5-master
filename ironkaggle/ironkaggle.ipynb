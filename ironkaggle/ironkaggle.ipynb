{
 "cells": [
  {
   "cell_type": "markdown",
   "metadata": {},
   "source": [
    "# Import data, EDA"
   ]
  },
  {
   "cell_type": "code",
   "execution_count": null,
   "metadata": {},
   "outputs": [],
   "source": [
    "import pandas as pd\n",
    "\n",
    "# Importing data into df\n",
    "file_path = 'sales.csv'\n",
    "\n",
    "# Load the CSV file into a DataFrame\n",
    "ironkaggle_df = pd.read_csv(file_path)\n",
    "\n",
    "# Display the first few rows of the DataFrame\n",
    "# print(ironkaggle_df.head())\n",
    "\n",
    "# print(ironkaggle_df.dtypes)\n",
    "# print(ironkaggle_df.describe())"
   ]
  },
  {
   "cell_type": "code",
   "execution_count": null,
   "metadata": {},
   "outputs": [],
   "source": [
    "# <!-- | **Variable**           | **Type**         | **Details**                              |\n",
    "# |-------------------------|------------------|------------------------------------------|\n",
    "# | `store_ID`             | Categorical     | Nominal, unique store identifiers        |\n",
    "# | `day_of_week`          | Categorical     | Represents days of the week   |\n",
    "# | `date`                 | Ordinal         | Nominal (date) |\n",
    "# | `nb_customers_on_day`  | Numerical       | number of customers          |\n",
    "# | `open`                 | Categorical     | Binary, open or closed         |\n",
    "# | `promotion`            | Categorical     | Binary, promotion status                 |\n",
    "# | `state_holiday`        | Categorical     | Binary, holiday status                  |\n",
    "# | `school_holiday`       | Categorical     | Binary, holiday status                   |\n",
    "# | `sales`                | Numerical       | Continuous, sales revenue                | \n",
    "\n",
    "categorical_var = ['store_ID', 'day_of_the_week', 'open', 'promotion', 'state_holiday', 'school_holiday']\n",
    "date_var = ['date']\n",
    "numerical_var = ['nb_customers_on_day', 'sales']"
   ]
  },
  {
   "cell_type": "code",
   "execution_count": null,
   "metadata": {},
   "outputs": [],
   "source": [
    "# I will drop the untitled column, bc I don't know what it is. \n",
    "ironkaggle_df = ironkaggle_df.drop(columns=['Unnamed: 0'])\n"
   ]
  }
 ],
 "metadata": {
  "kernelspec": {
   "display_name": "Python 3",
   "language": "python",
   "name": "python3"
  },
  "language_info": {
   "codemirror_mode": {
    "name": "ipython",
    "version": 3
   },
   "file_extension": ".py",
   "mimetype": "text/x-python",
   "name": "python",
   "nbconvert_exporter": "python",
   "pygments_lexer": "ipython3",
   "version": "3.10.10"
  }
 },
 "nbformat": 4,
 "nbformat_minor": 2
}
